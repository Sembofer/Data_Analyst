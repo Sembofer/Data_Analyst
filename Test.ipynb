{
 "cells": [
  {
   "cell_type": "markdown",
   "metadata": {},
   "source": [
    "# Test"
   ]
  },
  {
   "cell_type": "markdown",
   "metadata": {},
   "source": [
    "## Linux/Bash"
   ]
  },
  {
   "cell_type": "markdown",
   "metadata": {},
   "source": [
    "1. - crear una carpeta con comando bash/linux que se llame \"Scripts\""
   ]
  },
  {
   "cell_type": "code",
   "execution_count": 1,
   "metadata": {
    "vscode": {
     "languageId": "shellscript"
    }
   },
   "outputs": [],
   "source": [
    "! mkdir Scripts"
   ]
  },
  {
   "cell_type": "markdown",
   "metadata": {},
   "source": [
    "2. - crear un archivo txt dentro de la carpeta que se acaba de crear"
   ]
  },
  {
   "cell_type": "code",
   "execution_count": 2,
   "metadata": {
    "vscode": {
     "languageId": "shellscript"
    }
   },
   "outputs": [],
   "source": [
    "! touch Scripts/file_name.txt"
   ]
  },
  {
   "cell_type": "markdown",
   "metadata": {},
   "source": [
    "3. - asignarle permisos al archivo de solo lectura"
   ]
  },
  {
   "cell_type": "code",
   "execution_count": 3,
   "metadata": {
    "vscode": {
     "languageId": "shellscript"
    }
   },
   "outputs": [],
   "source": [
    "! chmod =r Scripts/file_name.txt"
   ]
  },
  {
   "cell_type": "markdown",
   "metadata": {},
   "source": [
    "4. - copiar el archivo y modificar el nombre"
   ]
  },
  {
   "cell_type": "code",
   "execution_count": 4,
   "metadata": {
    "vscode": {
     "languageId": "shellscript"
    }
   },
   "outputs": [],
   "source": [
    "! cp Scripts/file_name.txt Scripts/duplicate.txt"
   ]
  },
  {
   "cell_type": "markdown",
   "metadata": {},
   "source": [
    "5. - asignarle al nuevo archivo permisos de escritura"
   ]
  },
  {
   "cell_type": "code",
   "execution_count": 5,
   "metadata": {
    "vscode": {
     "languageId": "shellscript"
    }
   },
   "outputs": [],
   "source": [
    "! chmod =w Scripts/duplicate.txt"
   ]
  },
  {
   "cell_type": "markdown",
   "metadata": {},
   "source": [
    "6. - Ingesta el siguiente texto dentro del primer archivo que se creo <br>\n",
    "Le damos permisos de lectura, escritura y ejecución para agregar el texto mediante el segundo comando"
   ]
  },
  {
   "cell_type": "code",
   "execution_count": 6,
   "metadata": {
    "vscode": {
     "languageId": "shellscript"
    }
   },
   "outputs": [],
   "source": [
    "! chmod +rwx Scripts/file_name.txt"
   ]
  },
  {
   "cell_type": "code",
   "execution_count": 7,
   "metadata": {
    "vscode": {
     "languageId": "shellscript"
    }
   },
   "outputs": [
    {
     "name": "stdout",
     "output_type": "stream",
     "text": [
      "\u001b[20A[20A\u001b[m\u001b[malir     \u001b[7m^R\u001b[m Leer fich.\u001b[7m^\\\u001b[m Reemplazar\u001b[7m^U\u001b[m Pegar     \u001b[7m^T\u001b[m Ortografía\u001b[7m^_\u001b[m Ir a línea[m\u001b[H\u001b[7m  GNU nano 4.8                Scripts/file_name.txt                             \u001b[1;79H\u001b[m\u001b[22;16H\u001b[7m[ línea 1/1 (100%), col 1/1 (100%), car 0/0 (0%) ]\u001b[m"
     ]
    }
   ],
   "source": [
    "! nano Scripts/file_name.txt"
   ]
  },
  {
   "cell_type": "markdown",
   "metadata": {},
   "source": [
    "7. – Sacar el número de líneas que contiene el archivo"
   ]
  },
  {
   "cell_type": "code",
   "execution_count": 8,
   "metadata": {
    "vscode": {
     "languageId": "shellscript"
    }
   },
   "outputs": [
    {
     "name": "stdout",
     "output_type": "stream",
     "text": [
      "17 Scripts/file_name.txt\n"
     ]
    }
   ],
   "source": [
    "! wc Scripts/file_name.txt -l"
   ]
  },
  {
   "cell_type": "markdown",
   "metadata": {},
   "source": [
    "\n",
    "8. - escribe el comando para buscar la palabra “Apple”"
   ]
  },
  {
   "cell_type": "code",
   "execution_count": 9,
   "metadata": {
    "vscode": {
     "languageId": "shellscript"
    }
   },
   "outputs": [
    {
     "name": "stdout",
     "output_type": "stream",
     "text": [
      "“Apple Inc. es una empresa estadounidense que diseña y produce equipos electrónicos, software y\n",
      "servicios en línea. Tiene su sede central en el Apple Park, en Cupertino (California, Estados Unidos) y\n",
      "el reloj inteligente Apple Watch y el reproductor de medios digitales Apple TV. Entre el software de\n",
      "Apple se encuentran los sistemas operativos iOS, iPadOS, macOS, watchOS y tvOS, el explorador de\n",
      "distribuidores (destacándose los distribuidores prémium o Apple Premium Resellers) y una tienda\n",
      "De acuerdo con la revista Fortune , Apple fue la empresa más admirada en el mundo entre 2008 y\n"
     ]
    }
   ],
   "source": [
    "! grep Apple Scripts/file_name.txt"
   ]
  },
  {
   "cell_type": "markdown",
   "metadata": {},
   "source": [
    "9. - ¿En qué extensión se almacenan los programas Shell y como se ejecutan? <br>\n",
    "La extensión de los archivos que son Scripts para el Shell tienen extensión SH (archivo.sh) y se pueden ejecutar usando ./ (./archivo.sh) en la terminal."
   ]
  },
  {
   "cell_type": "markdown",
   "metadata": {},
   "source": [
    "10. - ¿Se requiere un compilador separado para ejecutar un programa de shell?<br>\n",
    "No, ya que el Shell interpreta el programa línea por línea, por lo que a estos programas se les conoce también como Scripts"
   ]
  },
  {
   "cell_type": "markdown",
   "metadata": {},
   "source": [
    "11. - ¿Cuáles son los permisos predeterminados de un archivo cuando se crea? <br>\n",
    "Los permisos por defecto son 666 (rw-rw-rw) lo que significa que todos los usuarios pueden leer y escribir en el archivo."
   ]
  },
  {
   "cell_type": "markdown",
   "metadata": {},
   "source": [
    "12. - ¿Qué son las variables de shell?<br>\n",
    "Las variables son útilizadas para que el Shell guarde información en ellas. Algunas de estas son llamadas variables de entorno que están disponibles en todo momento y convencionalmente se escriben en mayusculas. Existen también las variables locales con la diferencia de que cuando ejecutamos un sub-shell, sólo las de entorno son heredadas, y las locales no están definidas. "
   ]
  },
  {
   "cell_type": "markdown",
   "metadata": {},
   "source": [
    "13. - ¿Cómo se almacenan las variables de shell? Explica con un ejemplo sencillo.<br>\n",
    "Las variables se almacenan en formato de cadena y ell usuario puede definirlas. Ejemplos:<br>\n",
    "$HOME=/home/user/ -- Contiene el camino hacia el directorio de trabajo. <br>\n",
    "$USER=user  -- Variable que nos identifica como usuario del sistema.\n",
    "\n"
   ]
  },
  {
   "cell_type": "markdown",
   "metadata": {},
   "source": [
    "14. - ¿Cuál es la vida útil de una variable dentro de un script de shell?<br>\n",
    "Este tipo de variables son locales y su tiempo de vida está limitado al tiempo de ejecución del Script."
   ]
  },
  {
   "cell_type": "markdown",
   "metadata": {},
   "source": [
    "15. - Explique brevemente los permisos que existen en archivos y directorios.<br>\n",
    " Permiso de lectura, únicamente permite leer\n",
    " Permiso de escritura\n",
    " Permiso de ejecución."
   ]
  },
  {
   "cell_type": "markdown",
   "metadata": {},
   "source": [
    "16. - ¿Qué son los bucles y explica brevemente tres métodos diferentes de bucles?<br>\n",
    "Un bucle es una secuencia que repite varias veces un mismo trozo de código, hasta que la condición asignada al bucle deja de cumplirse."
   ]
  },
  {
   "cell_type": "markdown",
   "metadata": {},
   "source": [
    "El bucle for, que permite iterar sobre una serie de elementos de una cadena, lista, range, etc. En general se itera sobre un objeto que se denomina iterable."
   ]
  },
  {
   "cell_type": "markdown",
   "metadata": {},
   "source": [
    "El bucle while, que verifica una condición antes de cada iteración. El bucle termina cuando la condición no se cumple."
   ]
  },
  {
   "cell_type": "markdown",
   "metadata": {},
   "source": [
    "Anidación, que son bucles dentro de otro bucle. Por ejemplo, el bucle interior itera con cada iteración del bucle exterior."
   ]
  },
  {
   "cell_type": "markdown",
   "metadata": {},
   "source": [
    "17. - ¿Que comando se utiliza para validar si un shell script se encuentra en ejecución?"
   ]
  },
  {
   "cell_type": "markdown",
   "metadata": {},
   "source": [
    "ps [modificadores] [condición]"
   ]
  },
  {
   "cell_type": "markdown",
   "metadata": {},
   "source": [
    "18. - Explique brevemente sobre el comando sed con un ejemplo. <br>\n",
    "La sintaxis del comando es la siguiente: <br>\n",
    "sed [parámetro(s)] 'orden(es)' [archivo(s)] <br>"
   ]
  },
  {
   "cell_type": "markdown",
   "metadata": {},
   "source": [
    "Por ejemplo, para nuestro archivo creado anteriormente, file_name.txt podriamos ejecutar el siguiente comando que muestra las líneas 10 a 13."
   ]
  },
  {
   "cell_type": "code",
   "execution_count": 10,
   "metadata": {
    "vscode": {
     "languageId": "shellscript"
    }
   },
   "outputs": [
    {
     "name": "stdout",
     "output_type": "stream",
     "text": [
      "La empresa operaba, en mayo de 2014, más de 408 tiendas propias en nueve países, ​ miles de\n",
      "distribuidores (destacándose los distribuidores prémium o Apple Premium Resellers) y una tienda\n",
      "en línea (disponible en varios países) donde se venden sus productos y se presta asistencia técnica.\n",
      "De acuerdo con la revista Fortune , Apple fue la empresa más admirada en el mundo entre 2008 y\n"
     ]
    }
   ],
   "source": [
    "! sed -n '10,13p' Scripts/file_name.txt"
   ]
  },
  {
   "cell_type": "markdown",
   "metadata": {},
   "source": [
    "donde el parámetro $\\text{-n}$ indica que los resultados no se emiten, <br>\n",
    "$\\text{'10,13p'}$ es la orden para mostrar (p) las líneas de 10 a 13, <br>\n",
    "y $\\text{Scripts/file\\_name.txt}$ es la ruta del archivo."
   ]
  },
  {
   "cell_type": "markdown",
   "metadata": {},
   "source": [
    "19. - Explique brevemente sobre el comando awk con un ejemplo."
   ]
  },
  {
   "cell_type": "markdown",
   "metadata": {},
   "source": [
    "Los usos básicos que podemos dar al comando Awk son los siguientes:<br>\n",
    "    Buscar palabras y patrones de palabras y reemplazarlos por otras palabras y/o patrones.<br>\n",
    "    Hacer operaciones matemáticas.<br>\n",
    "    Procesar texto y mostrar las líneas y columnas que cumplen con determinadas condiciones.<br>\n",
    "    Etc."
   ]
  },
  {
   "cell_type": "markdown",
   "metadata": {},
   "source": [
    "En el siguiente ejemplo se usa echo para mostrar un loop mediante awk que muestra el mensaje:<br>\n",
    "\"Running for counter times\" <br>\n",
    "se muestra el mensaje en lineas diferentes para cada número, que van de 10 disminuyendo hasta 6."
   ]
  },
  {
   "cell_type": "code",
   "execution_count": 11,
   "metadata": {
    "vscode": {
     "languageId": "shellscript"
    }
   },
   "outputs": [
    {
     "name": "stdout",
     "output_type": "stream",
     "text": [
      "Running for  10  times. \n",
      "\n",
      "Running for  9  times. \n",
      "\n",
      "Running for  8  times. \n",
      "\n",
      "Running for  7  times. \n",
      "\n",
      "Running for  6  times. \n",
      "\n",
      "Running for  5  times. \n",
      "\n"
     ]
    }
   ],
   "source": [
    "! echo | awk '{ for (counter = 10; counter >= 5; counter--) print \"Running for \",counter, \" times.\",\"\\n\"; }'"
   ]
  },
  {
   "cell_type": "markdown",
   "metadata": {},
   "source": [
    "20. - Explique cuál es el resultado del siguiente comando cat script1 > script2 <br>\n",
    "Dirige la salida del script1 al script2, si script2 (destino) no existe cat se encarga de crearlo o sobreescribir uno ya existente con el mismo nombre."
   ]
  },
  {
   "cell_type": "markdown",
   "metadata": {},
   "source": [
    "21. - Explique cuál es el resultado del siguiente comando cat script3 >> script4 <br>\n",
    "Dirige el contenido del script3 (fuente) al script4 (destino)."
   ]
  },
  {
   "cell_type": "markdown",
   "metadata": {},
   "source": [
    "22. - Comando para borrar el primer archivo que se creo"
   ]
  },
  {
   "cell_type": "code",
   "execution_count": 12,
   "metadata": {
    "vscode": {
     "languageId": "shellscript"
    }
   },
   "outputs": [],
   "source": [
    "! rm Scripts/file_name.txt"
   ]
  },
  {
   "cell_type": "markdown",
   "metadata": {},
   "source": [
    "23. - Comando para todos los archivos y el directorio que se creo"
   ]
  },
  {
   "cell_type": "code",
   "execution_count": null,
   "metadata": {
    "vscode": {
     "languageId": "shellscript"
    }
   },
   "outputs": [],
   "source": [
    "! rm -r Scripts/* | rmdir Scripts/"
   ]
  },
  {
   "cell_type": "markdown",
   "metadata": {},
   "source": [
    "24. - Escriba el comando para buscar una cadena de texto dentro de un árbol de directorios y\n",
    "archivos"
   ]
  },
  {
   "cell_type": "code",
   "execution_count": 17,
   "metadata": {
    "vscode": {
     "languageId": "shellscript"
    }
   },
   "outputs": [],
   "source": [
    "! grep \"cadena de texto\" $(find . -name '*.txt')"
   ]
  },
  {
   "cell_type": "markdown",
   "metadata": {},
   "source": [
    "25. - Escriba el comando para imprimir las primeras 50 líneas de un archivo"
   ]
  },
  {
   "cell_type": "code",
   "execution_count": null,
   "metadata": {
    "vscode": {
     "languageId": "shellscript"
    }
   },
   "outputs": [],
   "source": [
    "! head -n100 FICHERO"
   ]
  },
  {
   "cell_type": "markdown",
   "metadata": {},
   "source": [
    "26. - Escriba el comando para imprimir las ultimas 50 líneas de un archivo"
   ]
  },
  {
   "cell_type": "code",
   "execution_count": null,
   "metadata": {
    "vscode": {
     "languageId": "shellscript"
    }
   },
   "outputs": [],
   "source": [
    "! tail -n50 FICHERO "
   ]
  },
  {
   "cell_type": "markdown",
   "metadata": {},
   "source": [
    "27. - Crea un ciclo for que imprima de 10 en 10 al 100"
   ]
  },
  {
   "cell_type": "code",
   "execution_count": 20,
   "metadata": {
    "vscode": {
     "languageId": "shellscript"
    }
   },
   "outputs": [
    {
     "name": "stdout",
     "output_type": "stream",
     "text": [
      "10\n",
      "20\n",
      "30\n",
      "40\n",
      "50\n",
      "60\n",
      "70\n",
      "80\n",
      "90\n",
      "100\n"
     ]
    }
   ],
   "source": [
    "! echo | awk '{ for (counter = 10; counter <=100; counter= counter +10) print counter }'"
   ]
  },
  {
   "cell_type": "markdown",
   "metadata": {},
   "source": [
    "28. - Escriba el comando para mandar a segundo plano o a background el siguiente Shell\n",
    "“Compras_brio.sh” con salida al log “Compras_brio.log” <br>"
   ]
  },
  {
   "cell_type": "code",
   "execution_count": null,
   "metadata": {
    "vscode": {
     "languageId": "shellscript"
    }
   },
   "outputs": [],
   "source": [
    "! ./prueba.sh > compras.log &"
   ]
  },
  {
   "cell_type": "markdown",
   "metadata": {},
   "source": [
    "29. - Escribir el comando para eliminar/suprimir/terminar la ejecución de “Compras_brio.sh” <br>\n",
    "Para finalizar un proceso que está en segundo plano tienes que utilizar kill % seguido del número del proceso que quieres finalizar.<br>\n",
    "! kill %{numero de proceso}"
   ]
  },
  {
   "cell_type": "code",
   "execution_count": null,
   "metadata": {
    "vscode": {
     "languageId": "shellscript"
    }
   },
   "outputs": [],
   "source": [
    "! kill %1"
   ]
  },
  {
   "cell_type": "markdown",
   "metadata": {},
   "source": [
    "30. - Crear una aplicación que tome como variable 1 nombre 1 edad y esta me la mueste 10 veces\n",
    "en la pantalla , Escriba el comando para ejecutar la aplicación y mandarla a segundo plano con su\n",
    "respectivo log. <br>"
   ]
  },
  {
   "cell_type": "markdown",
   "metadata": {},
   "source": [
    "Comenzamos creando el script"
   ]
  },
  {
   "cell_type": "code",
   "execution_count": 21,
   "metadata": {
    "vscode": {
     "languageId": "shellscript"
    }
   },
   "outputs": [
    {
     "name": "stdout",
     "output_type": "stream",
     "text": [
      "\u001b[20A[20A\u001b[m\u001b[malir     \u001b[7m^R\u001b[m Leer fich.\u001b[7m^\\\u001b[m Reemplazar\u001b[7m^U\u001b[m Pegar     \u001b[7m^T\u001b[m Ortografía\u001b[7m^_\u001b[m Ir a línea              script.sh                                   \u001b[1;79H\u001b[m\u001b[22;16H\u001b[7m[ línea 1/1 (100%), col 1/1 (100%), car 0/0 (0%) ]\u001b[m"
     ]
    }
   ],
   "source": [
    "! nano script.sh"
   ]
  },
  {
   "cell_type": "markdown",
   "metadata": {},
   "source": [
    "Con el siguiente contenido"
   ]
  },
  {
   "cell_type": "code",
   "execution_count": null,
   "metadata": {
    "vscode": {
     "languageId": "shellscript"
    }
   },
   "outputs": [],
   "source": [
    "#!bin/sh\n",
    "name=\"Nombre\"\n",
    "age=\"Edad\"\n",
    "for ((counter = 1; counter <=10; counter++))\n",
    "do\n",
    "  echo \"$name $age\"\n",
    "done"
   ]
  },
  {
   "cell_type": "markdown",
   "metadata": {},
   "source": [
    "Con el siguiente comando ejecutamos el script en segundo plano y mandamos la salida al log llamado script.log"
   ]
  },
  {
   "cell_type": "code",
   "execution_count": 32,
   "metadata": {
    "vscode": {
     "languageId": "shellscript"
    }
   },
   "outputs": [],
   "source": [
    "! bash ./script.sh &> script.log"
   ]
  },
  {
   "cell_type": "markdown",
   "metadata": {},
   "source": [
    "# SQL"
   ]
  },
  {
   "cell_type": "markdown",
   "metadata": {},
   "source": [
    "### Parte 1"
   ]
  },
  {
   "cell_type": "markdown",
   "metadata": {},
   "source": [
    "¿Qué es un inner join?\n",
    "Inner Join selecciona registros que hacen match en ambas tablas"
   ]
  },
  {
   "cell_type": "markdown",
   "metadata": {},
   "source": [
    "¿Cuál es la diferencia entre un inner join y un left join?\n",
    "Left Join regresa todos los registros de la tabla izquierda, y los registros con los que hace match con la tabla de la derecha y no deja registros para el lado derecho si no hace ningun match. Mientras que el inner join pone los registros con las coincidencias en ambas tablas."
   ]
  },
  {
   "cell_type": "markdown",
   "metadata": {},
   "source": [
    "¿Cuál es la diferencia entre un rigth join y un left join?\n",
    "\n",
    "Right Join regresa todos los registros de la tabla de la derecha, y los registros con los que hace match con la tabla de la izquierda. Left Join funciona de forma análoga."
   ]
  },
  {
   "cell_type": "markdown",
   "metadata": {},
   "source": [
    "¿Qué es un cross Join? <br>\n",
    "El CROSS JOIN presenta el producto cartesiano de los registros de las dos tablas. La tabla resultante tendrá todos los registros de la tabla izquierda combinados con cada uno de los registros de la tabla derecha. \n"
   ]
  },
  {
   "cell_type": "markdown",
   "metadata": {},
   "source": [
    "¿Cuál es la estructura de un CASE?"
   ]
  },
  {
   "cell_type": "code",
   "execution_count": null,
   "metadata": {
    "vscode": {
     "languageId": "sql"
    }
   },
   "outputs": [],
   "source": [
    "CASE\n",
    "    WHEN condition1 THEN result1\n",
    "    WHEN condition2 THEN result2\n",
    "    WHEN conditionN THEN resultN\n",
    "    ELSE result\n",
    "END;"
   ]
  },
  {
   "cell_type": "markdown",
   "metadata": {},
   "source": [
    "1. - Escriba el query que me muestre únicamente los datos planta, producto_id, periodo y sumarizar el value con\n",
    "los filtros tmoneda_id USD y que entren en el rubro_id numero 3"
   ]
  },
  {
   "cell_type": "code",
   "execution_count": null,
   "metadata": {
    "vscode": {
     "languageId": "sql"
    }
   },
   "outputs": [],
   "source": [
    "SELECT T.planta_id, T.producto_id, T.periodo, AVG(T.value) FROM \"TABLA 1\" AS T \n",
    "    WHERE T.tmoneda_id = 'USD' AND T.rubro_id =3\n",
    "    GROUP BY T.planta_id, T.producto_id, T.periodo;"
   ]
  },
  {
   "cell_type": "markdown",
   "metadata": {},
   "source": [
    "2. - Escribe el query donde si la moneda es EUR en tipo costo me aparezca null"
   ]
  },
  {
   "cell_type": "code",
   "execution_count": null,
   "metadata": {
    "vscode": {
     "languageId": "sql"
    }
   },
   "outputs": [],
   "source": [
    "SELECT  CASE    WHEN t.tmoneda_id = \"EUR\" THEN null\n",
    "                ELSE t.tipo_costo\n",
    "        END\n",
    "FROM \"TABLA 1\" AS t"
   ]
  },
  {
   "cell_type": "markdown",
   "metadata": {},
   "source": [
    "3. - Escribe el query donde si mi value es null me ponga un 0"
   ]
  },
  {
   "cell_type": "code",
   "execution_count": null,
   "metadata": {
    "vscode": {
     "languageId": "sql"
    }
   },
   "outputs": [],
   "source": [
    "SELECT  CASE t.value WHEN null THEN 0\n",
    "                    ELSE t.value\n",
    "        END\n",
    "FROM \"TABLA 1\" AS t"
   ]
  },
  {
   "cell_type": "markdown",
   "metadata": {},
   "source": [
    "### Parte 2."
   ]
  },
  {
   "cell_type": "markdown",
   "metadata": {},
   "source": [
    "1. ¿Cuál es el nombre aeropuerto que ha tenido mayor movimiento durante el año?"
   ]
  },
  {
   "cell_type": "code",
   "execution_count": 33,
   "metadata": {},
   "outputs": [
    {
     "name": "stdout",
     "output_type": "stream",
     "text": [
      "  nombreaeropuerto  Numero de vuelos\n",
      "0    Benito Juarez                 3\n",
      "1           La paz                 3\n",
      "2           Oaxaca                 2\n",
      "3       Guanajuato                 1\n"
     ]
    }
   ],
   "source": [
    "! python database/query_db.py 1"
   ]
  },
  {
   "cell_type": "markdown",
   "metadata": {},
   "source": [
    "como se puede ver, la máxima cantidad de vuelos se ha dado en dos aeropuertos; Benito Juares y La paz"
   ]
  },
  {
   "cell_type": "markdown",
   "metadata": {},
   "source": [
    "2. ¿Cuál es el nombre aerolínea que ha realizado mayor número de vuelos durante el año?"
   ]
  },
  {
   "cell_type": "code",
   "execution_count": 34,
   "metadata": {},
   "outputs": [
    {
     "name": "stdout",
     "output_type": "stream",
     "text": [
      "  nombreaerolinea  Numero de vuelos\n",
      "0         Aeromar                 3\n",
      "1        Interjet                 3\n",
      "2         Volaris                 2\n",
      "3      Aeromexico                 1\n"
     ]
    }
   ],
   "source": [
    "! python database/query_db.py 2"
   ]
  },
  {
   "cell_type": "markdown",
   "metadata": {},
   "source": [
    "como se puede ver, las aerolineas con mayor número de vuelos han sifo Aeromar y Interjet"
   ]
  },
  {
   "cell_type": "markdown",
   "metadata": {},
   "source": [
    "3. ¿En qué mes se han tenido mayor número de vuelos?"
   ]
  },
  {
   "cell_type": "code",
   "execution_count": 35,
   "metadata": {},
   "outputs": [
    {
     "name": "stdout",
     "output_type": "stream",
     "text": [
      "          dia  Numero de vuelos\n",
      "0  2021-05-02                 6\n",
      "1  2021-05-04                 3\n"
     ]
    }
   ],
   "source": [
    "! python database/query_db.py 3"
   ]
  },
  {
   "cell_type": "markdown",
   "metadata": {},
   "source": [
    "como se puede ver, el mes con mayor numero de vuelos ha sido mayo."
   ]
  },
  {
   "cell_type": "markdown",
   "metadata": {},
   "source": [
    "### Parte 3\n",
    "Escribir las sentencias completas para los siguientes incisos"
   ]
  },
  {
   "cell_type": "markdown",
   "metadata": {},
   "source": [
    "a) Castear la columna Value a float"
   ]
  },
  {
   "cell_type": "code",
   "execution_count": null,
   "metadata": {
    "vscode": {
     "languageId": "sql"
    }
   },
   "outputs": [],
   "source": [
    "SELECT CAST(\"Value\", float) FROM \"TABLE 1\""
   ]
  },
  {
   "cell_type": "markdown",
   "metadata": {},
   "source": [
    "\n",
    "b) Castear la columna fecha a formato YYYY-MM-DD"
   ]
  },
  {
   "cell_type": "code",
   "execution_count": null,
   "metadata": {
    "vscode": {
     "languageId": "sql"
    }
   },
   "outputs": [],
   "source": [
    "SELECT CAST(fecha, date) FROM \"TABLE 1\""
   ]
  },
  {
   "cell_type": "markdown",
   "metadata": {},
   "source": [
    "c) Obtener únicamente el mes de la columna fecha"
   ]
  },
  {
   "cell_type": "code",
   "execution_count": null,
   "metadata": {
    "vscode": {
     "languageId": "sql"
    }
   },
   "outputs": [],
   "source": [
    "SELECT MONTH(fecha) FROM \"TABLE 1\""
   ]
  },
  {
   "cell_type": "markdown",
   "metadata": {},
   "source": [
    "d) Dividir la siguiente cadena y únicamente me muestre los números ADGO-1974-G&HF"
   ]
  },
  {
   "cell_type": "code",
   "execution_count": null,
   "metadata": {
    "vscode": {
     "languageId": "sql"
    }
   },
   "outputs": [],
   "source": [
    "SELECT SUBSTRING('ADGO-1974-G&HF' , 6, 4)"
   ]
  },
  {
   "cell_type": "markdown",
   "metadata": {},
   "source": [
    "e) Obtener todos los resultados de la columna transacción que contengan la palabra “ADGO”"
   ]
  },
  {
   "cell_type": "code",
   "execution_count": null,
   "metadata": {
    "vscode": {
     "languageId": "sql"
    }
   },
   "outputs": [],
   "source": [
    "SELECT transaccion FROM \"TABLE 1\" WHERE transaccion LIKE '%ADGO%'"
   ]
  },
  {
   "cell_type": "markdown",
   "metadata": {},
   "source": [
    "f) Concatenar las siguientes cadenas “tu nombre” , “tu edad” , “tus apellidos”"
   ]
  },
  {
   "cell_type": "code",
   "execution_count": null,
   "metadata": {
    "vscode": {
     "languageId": "sql"
    }
   },
   "outputs": [],
   "source": [
    "SELECT CONCAT(\"tu nombre\", \" \",\"tu edad\", \" \", \"tus apellidos\")"
   ]
  },
  {
   "cell_type": "markdown",
   "metadata": {},
   "source": [
    "g) Pasar a mayúsculas todos los datos de la columna Producto"
   ]
  },
  {
   "cell_type": "code",
   "execution_count": null,
   "metadata": {
    "vscode": {
     "languageId": "sql"
    }
   },
   "outputs": [],
   "source": [
    "SELECT UPPER(Producto) FROM \"TABLE 1\""
   ]
  }
 ],
 "metadata": {
  "interpreter": {
   "hash": "e315604c0cc6ce4840123f7f549ffc958a2d3cfbe6b9e3c730900e90f9b43331"
  },
  "kernelspec": {
   "display_name": "Python 3.8.10 ('env': venv)",
   "language": "python",
   "name": "python3"
  },
  "language_info": {
   "codemirror_mode": {
    "name": "ipython",
    "version": 3
   },
   "file_extension": ".py",
   "mimetype": "text/x-python",
   "name": "python",
   "nbconvert_exporter": "python",
   "pygments_lexer": "ipython3",
   "version": "3.8.10"
  },
  "orig_nbformat": 4
 },
 "nbformat": 4,
 "nbformat_minor": 2
}
